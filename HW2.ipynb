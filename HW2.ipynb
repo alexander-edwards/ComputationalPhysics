{
 "cells": [
  {
   "cell_type": "code",
   "execution_count": 28,
   "metadata": {},
   "outputs": [
    {
     "name": "stdout",
     "output_type": "stream",
     "text": [
      "01111001\n"
     ]
    }
   ],
   "source": [
    "def decToBin(dec_num): \n",
    "    bin_num = ''\n",
    "    while (dec_num >= 1): \n",
    "        bin_num = str(dec_num % 2) + bin_num\n",
    "        dec_num = dec_num // 2 \n",
    "    # For case of 0, not strictly needed\n",
    "    bin_num = '0' + bin_num\n",
    "    print(bin_num)\n",
    "\n",
    "decToBin(121)"
   ]
  },
  {
   "cell_type": "code",
   "execution_count": 77,
   "metadata": {},
   "outputs": [
    {
     "name": "stdout",
     "output_type": "stream",
     "text": [
      "1.7475645950377328\n",
      "1.7475645950341998\n"
     ]
    }
   ],
   "source": [
    "import math \n",
    "import numpy as np\n",
    "\n",
    "# For loop version\n",
    "def madelungConstant(): \n",
    "    L = 100\n",
    "\n",
    "    V = 0 \n",
    "    for i in range(-L, L): \n",
    "        for j in range(-L, L): \n",
    "            for k in range(-L, L): \n",
    "                if (i == 0 and j == 0 and k == 0): \n",
    "                    continue\n",
    "                if ((i + j + k)) % 2 == 0: \n",
    "                    V -= 1 / math.sqrt( i**2 + j**2 + k**2) \n",
    "                else: \n",
    "                    V += 1 / math.sqrt( i**2 + j**2 + k**2) \n",
    "    print (V)\n",
    "    \n",
    "mid = L\n",
    "\n",
    "# Optimised Version \n",
    "def madelungConstantTwo(): \n",
    "    L = 100\n",
    "    mid = L\n",
    "    L = 2*L \n",
    "    A = np.fromfunction(f,(L, L, L))\n",
    "    A[mid][mid][mid] = 0\n",
    "    print(np.sum(A))\n",
    "    \n",
    "madelungConstant()\n",
    "madelungConstantTwo()\n",
    "\n",
    "def f(i, j, k):\n",
    "    # Make correct range\n",
    "    # Else will only sum in the first octant (no negative values)  \n",
    "    i = mid - i\n",
    "    j = mid - j\n",
    "    k = mid - k\n",
    "    return np.power(-1, (np.absolute(i) + np.absolute(j) + np.absolute(k)) + 1)/ np.sqrt(np.power(i, 2) + np.power(j, 2) + np.power(k , 2)) "
   ]
  },
  {
   "cell_type": "code",
   "execution_count": 73,
   "metadata": {
    "scrolled": true
   },
   "outputs": [
    {
     "name": "stdout",
     "output_type": "stream",
     "text": [
      "1.7475645950377328\n",
      "1.7475645950377328\n",
      "1.7475645950377328\n",
      "1.7475645950377328\n",
      "1.7475645950377328\n",
      "1.7475645950377328\n",
      "1.7475645950377328\n",
      "1.7475645950377328\n",
      "7.87 s ± 556 ms per loop (mean ± std. dev. of 7 runs, 1 loop each)\n"
     ]
    }
   ],
   "source": [
    "%timeit madelungConstant()"
   ]
  },
  {
   "cell_type": "code",
   "execution_count": 78,
   "metadata": {
    "scrolled": true
   },
   "outputs": [
    {
     "name": "stdout",
     "output_type": "stream",
     "text": [
      "1.7475645950341998\n",
      "1.747564595034225\n"
     ]
    },
    {
     "name": "stderr",
     "output_type": "stream",
     "text": [
      "/anaconda3/lib/python3.6/site-packages/ipykernel_launcher.py:36: RuntimeWarning: divide by zero encountered in true_divide\n"
     ]
    },
    {
     "name": "stdout",
     "output_type": "stream",
     "text": [
      "1.7475645950341998\n",
      "1.7475645950341998\n",
      "1.7475645950341998\n",
      "1.747564595034225\n",
      "1.7475645950341998\n",
      "1.7475645950341998\n",
      "813 ms ± 25.9 ms per loop (mean ± std. dev. of 7 runs, 1 loop each)\n"
     ]
    }
   ],
   "source": [
    "%timeit madelungConstantTwo()"
   ]
  },
  {
   "cell_type": "code",
   "execution_count": 148,
   "metadata": {},
   "outputs": [
    {
     "data": {
      "image/png": "[encoded data removed]",
      "text/plain": [
       "<Figure size 432x288 with 2 Axes>"
      ]
     },
     "metadata": {},
     "output_type": "display_data"
    }
   ],
   "source": [
    "import numpy as np \n",
    "import math\n",
    "\n",
    "points = []\n",
    "# Mandelbrot function definition\n",
    "def function(z, c): \n",
    "    original = c\n",
    "    for i in range(1, 100): \n",
    "        z = z ** 2 + c\n",
    "        if math.sqrt(z.real **2 + z.imag ** 2) > 2:\n",
    "            # Log to make details more distinct\n",
    "            points.append(math.log(i)) \n",
    "            return \n",
    "    points.append(math.log(99))\n",
    "\n",
    "import matplotlib.pyplot as plt\n",
    "import time\n",
    "from pylab import imshow, hot, jet\n",
    "\n",
    "def mandlebrot(): \n",
    "  \n",
    "    N = 1000\n",
    "\n",
    "    # Establish range of values from -2 to 2 \n",
    "    x = np.linspace(-2, 2, N)\n",
    "    y = np.linspace(-2, 2, N) \n",
    "    x, y = np.meshgrid(x, y)\n",
    "    # Generate all c values that will be inputted\n",
    "    c = x + 1j * y\n",
    "    # Vectorize for optimisation\n",
    "    vector_func = np.vectorize(function)\n",
    "    vector_func(0, c)\n",
    "    \n",
    "    # Make it the correct size \n",
    "    del points[-1]\n",
    "    image = np.reshape(np.array(points), (N, N))\n",
    "    \n",
    "    jet()\n",
    "    plt.imshow(image, extent = [-2 , 2, -2 , 2])\n",
    "    plt.colorbar()\n",
    "    plt.xlabel('x')\n",
    "    plt.ylabel('y')\n",
    "    plt.title('Mandelbrot Set', fontsize=8)\n",
    "    plt.savefig('mand.png')\n",
    "\n",
    "mandlebrot()    "
   ]
  },
  {
   "cell_type": "code",
   "execution_count": 27,
   "metadata": {},
   "outputs": [
    {
     "name": "stdout",
     "output_type": "stream",
     "text": [
      "(-9.999894245993346e-07, -999999.999999)\n",
      "(-1.000000000001e-06, -1000010.5755125057)\n",
      "(-999999.999999, -1.000000000001e-06)\n"
     ]
    }
   ],
   "source": [
    "def quad1(a, b, c):\n",
    "    \n",
    "    x1 = (-b + np.sqrt(b**2 - 4*a*c)) / (2*a)\n",
    "    x2 = (-b - np.sqrt(b**2 - 4*a*c)) / (2*a)\n",
    "    \n",
    "    return x1, x2\n",
    "\n",
    "def quad2(a, b, c):\n",
    "    \n",
    "    x1 = (2*c) / (-b - np.sqrt(b**2 - 4*a*c))\n",
    "    x2 = (2*c) / (-b + np.sqrt(b**2 - 4*a*c))\n",
    "\n",
    "    return x1, x2\n",
    "\n",
    "def quad3(a, b, c): \n",
    "    x1 = (-b - np.sqrt(b**2 - 4*a*c)) / (2*a)\n",
    "    x2 = (2*c) / (-b - np.sqrt(b**2 - 4*a*c))\n",
    "    return x1, x2 \n",
    "    \n",
    "# caused by b\n",
    "\n",
    "print(quad1(0.001, 1000, 0.001))\n",
    "print(quad2(0.001, 1000, 0.001))\n",
    "print(quad3(0.001, 1000, 0.001))\n"
   ]
  },
  {
   "cell_type": "code",
   "execution_count": null,
   "metadata": {},
   "outputs": [],
   "source": []
  }
 ],
 "metadata": {
  "kernelspec": {
   "display_name": "Python 3",
   "language": "python",
   "name": "python3"
  },
  "language_info": {
   "codemirror_mode": {
    "name": "ipython",
    "version": 3
   },
   "file_extension": ".py",
   "mimetype": "text/x-python",
   "name": "python",
   "nbconvert_exporter": "python",
   "pygments_lexer": "ipython3",
   "version": "3.6.8"
  }
 },
 "nbformat": 4,
 "nbformat_minor": 2
}
